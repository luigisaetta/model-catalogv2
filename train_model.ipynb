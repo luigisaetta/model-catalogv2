{
 "cells": [
  {
   "cell_type": "markdown",
   "id": "fb3cc91d",
   "metadata": {},
   "source": [
    "### Model Catalog: train the model\n",
    "\n",
    "* dataset: Breast Cancer Dataset\n",
    "* model: LightGBM\n",
    "\n",
    "The goal here is not to develop the best model. We will use some reasonable techniques to get a good model and then we will save it to the model catalog"
   ]
  },
  {
   "cell_type": "code",
   "execution_count": 43,
   "id": "5763e676",
   "metadata": {},
   "outputs": [],
   "source": [
    "import pandas as pd\n",
    "import numpy as np\n",
    "\n",
    "from sklearn.datasets import load_breast_cancer\n",
    "from sklearn.preprocessing import StandardScaler\n",
    "from sklearn.metrics import confusion_matrix, ConfusionMatrixDisplay\n",
    "\n",
    "import lightgbm as lgb"
   ]
  },
  {
   "cell_type": "code",
   "execution_count": 10,
   "id": "eb3beee9",
   "metadata": {},
   "outputs": [
    {
     "data": {
      "text/plain": [
       "(569, 31)"
      ]
     },
     "execution_count": 10,
     "metadata": {},
     "output_type": "execute_result"
    }
   ],
   "source": [
    "### load the data from sklearn\n",
    "data = load_breast_cancer(as_frame=True)\n",
    "\n",
    "# as Pandas DataFRame\n",
    "orig_df = data.frame\n",
    "\n",
    "orig_df.shape"
   ]
  },
  {
   "cell_type": "code",
   "execution_count": 15,
   "id": "83049d0d",
   "metadata": {},
   "outputs": [
    {
     "data": {
      "text/plain": [
       "array([0, 1])"
      ]
     },
     "execution_count": 15,
     "metadata": {},
     "output_type": "execute_result"
    }
   ],
   "source": [
    "# target column\n",
    "orig_df['target'].unique()"
   ]
  },
  {
   "cell_type": "code",
   "execution_count": 18,
   "id": "dcea1ae4",
   "metadata": {},
   "outputs": [
    {
     "name": "stdout",
     "output_type": "stream",
     "text": [
      "Num training samples: 455\n",
      "Num validation samples: 114\n"
     ]
    }
   ],
   "source": [
    "# static train/validation split\n",
    "TRAIN_FRAC = 0.8\n",
    "NUM_TRAIN = int(TRAIN_FRAC*orig_df.shape[0])\n",
    "\n",
    "# shuffle\n",
    "orig_df = orig_df.sample(frac = 1.)\n",
    "\n",
    "train_df = orig_df[0:NUM_TRAIN]\n",
    "valid_df = orig_df[NUM_TRAIN:]\n",
    "\n",
    "print('Num training samples:', train_df.shape[0])\n",
    "print('Num validation samples:', valid_df.shape[0])"
   ]
  },
  {
   "cell_type": "code",
   "execution_count": 19,
   "id": "cf311c11",
   "metadata": {},
   "outputs": [
    {
     "data": {
      "text/html": [
       "<div>\n",
       "<style scoped>\n",
       "    .dataframe tbody tr th:only-of-type {\n",
       "        vertical-align: middle;\n",
       "    }\n",
       "\n",
       "    .dataframe tbody tr th {\n",
       "        vertical-align: top;\n",
       "    }\n",
       "\n",
       "    .dataframe thead th {\n",
       "        text-align: right;\n",
       "    }\n",
       "</style>\n",
       "<table border=\"1\" class=\"dataframe\">\n",
       "  <thead>\n",
       "    <tr style=\"text-align: right;\">\n",
       "      <th></th>\n",
       "      <th>mean radius</th>\n",
       "      <th>mean texture</th>\n",
       "      <th>mean perimeter</th>\n",
       "      <th>mean area</th>\n",
       "      <th>mean smoothness</th>\n",
       "      <th>mean compactness</th>\n",
       "      <th>mean concavity</th>\n",
       "      <th>mean concave points</th>\n",
       "      <th>mean symmetry</th>\n",
       "      <th>mean fractal dimension</th>\n",
       "      <th>...</th>\n",
       "      <th>worst texture</th>\n",
       "      <th>worst perimeter</th>\n",
       "      <th>worst area</th>\n",
       "      <th>worst smoothness</th>\n",
       "      <th>worst compactness</th>\n",
       "      <th>worst concavity</th>\n",
       "      <th>worst concave points</th>\n",
       "      <th>worst symmetry</th>\n",
       "      <th>worst fractal dimension</th>\n",
       "      <th>target</th>\n",
       "    </tr>\n",
       "  </thead>\n",
       "  <tbody>\n",
       "    <tr>\n",
       "      <th>15</th>\n",
       "      <td>14.540</td>\n",
       "      <td>27.54</td>\n",
       "      <td>96.73</td>\n",
       "      <td>658.8</td>\n",
       "      <td>0.11390</td>\n",
       "      <td>0.15950</td>\n",
       "      <td>0.16390</td>\n",
       "      <td>0.07364</td>\n",
       "      <td>0.2303</td>\n",
       "      <td>0.07077</td>\n",
       "      <td>...</td>\n",
       "      <td>37.13</td>\n",
       "      <td>124.10</td>\n",
       "      <td>943.2</td>\n",
       "      <td>0.1678</td>\n",
       "      <td>0.65770</td>\n",
       "      <td>0.70260</td>\n",
       "      <td>0.17120</td>\n",
       "      <td>0.4218</td>\n",
       "      <td>0.13410</td>\n",
       "      <td>0</td>\n",
       "    </tr>\n",
       "    <tr>\n",
       "      <th>52</th>\n",
       "      <td>11.940</td>\n",
       "      <td>18.24</td>\n",
       "      <td>75.71</td>\n",
       "      <td>437.6</td>\n",
       "      <td>0.08261</td>\n",
       "      <td>0.04751</td>\n",
       "      <td>0.01972</td>\n",
       "      <td>0.01349</td>\n",
       "      <td>0.1868</td>\n",
       "      <td>0.06110</td>\n",
       "      <td>...</td>\n",
       "      <td>21.33</td>\n",
       "      <td>83.67</td>\n",
       "      <td>527.2</td>\n",
       "      <td>0.1144</td>\n",
       "      <td>0.08906</td>\n",
       "      <td>0.09203</td>\n",
       "      <td>0.06296</td>\n",
       "      <td>0.2785</td>\n",
       "      <td>0.07408</td>\n",
       "      <td>1</td>\n",
       "    </tr>\n",
       "    <tr>\n",
       "      <th>43</th>\n",
       "      <td>13.280</td>\n",
       "      <td>20.28</td>\n",
       "      <td>87.32</td>\n",
       "      <td>545.2</td>\n",
       "      <td>0.10410</td>\n",
       "      <td>0.14360</td>\n",
       "      <td>0.09847</td>\n",
       "      <td>0.06158</td>\n",
       "      <td>0.1974</td>\n",
       "      <td>0.06782</td>\n",
       "      <td>...</td>\n",
       "      <td>28.00</td>\n",
       "      <td>113.10</td>\n",
       "      <td>907.2</td>\n",
       "      <td>0.1530</td>\n",
       "      <td>0.37240</td>\n",
       "      <td>0.36640</td>\n",
       "      <td>0.14920</td>\n",
       "      <td>0.3739</td>\n",
       "      <td>0.10270</td>\n",
       "      <td>0</td>\n",
       "    </tr>\n",
       "    <tr>\n",
       "      <th>175</th>\n",
       "      <td>8.671</td>\n",
       "      <td>14.45</td>\n",
       "      <td>54.42</td>\n",
       "      <td>227.2</td>\n",
       "      <td>0.09138</td>\n",
       "      <td>0.04276</td>\n",
       "      <td>0.00000</td>\n",
       "      <td>0.00000</td>\n",
       "      <td>0.1722</td>\n",
       "      <td>0.06724</td>\n",
       "      <td>...</td>\n",
       "      <td>17.04</td>\n",
       "      <td>58.36</td>\n",
       "      <td>259.2</td>\n",
       "      <td>0.1162</td>\n",
       "      <td>0.07057</td>\n",
       "      <td>0.00000</td>\n",
       "      <td>0.00000</td>\n",
       "      <td>0.2592</td>\n",
       "      <td>0.07848</td>\n",
       "      <td>1</td>\n",
       "    </tr>\n",
       "    <tr>\n",
       "      <th>336</th>\n",
       "      <td>12.990</td>\n",
       "      <td>14.23</td>\n",
       "      <td>84.08</td>\n",
       "      <td>514.3</td>\n",
       "      <td>0.09462</td>\n",
       "      <td>0.09965</td>\n",
       "      <td>0.03738</td>\n",
       "      <td>0.02098</td>\n",
       "      <td>0.1652</td>\n",
       "      <td>0.07238</td>\n",
       "      <td>...</td>\n",
       "      <td>16.91</td>\n",
       "      <td>87.38</td>\n",
       "      <td>576.0</td>\n",
       "      <td>0.1142</td>\n",
       "      <td>0.19750</td>\n",
       "      <td>0.14500</td>\n",
       "      <td>0.05850</td>\n",
       "      <td>0.2432</td>\n",
       "      <td>0.10090</td>\n",
       "      <td>1</td>\n",
       "    </tr>\n",
       "  </tbody>\n",
       "</table>\n",
       "<p>5 rows × 31 columns</p>\n",
       "</div>"
      ],
      "text/plain": [
       "     mean radius  mean texture  mean perimeter  mean area  mean smoothness  \\\n",
       "15        14.540         27.54           96.73      658.8          0.11390   \n",
       "52        11.940         18.24           75.71      437.6          0.08261   \n",
       "43        13.280         20.28           87.32      545.2          0.10410   \n",
       "175        8.671         14.45           54.42      227.2          0.09138   \n",
       "336       12.990         14.23           84.08      514.3          0.09462   \n",
       "\n",
       "     mean compactness  mean concavity  mean concave points  mean symmetry  \\\n",
       "15            0.15950         0.16390              0.07364         0.2303   \n",
       "52            0.04751         0.01972              0.01349         0.1868   \n",
       "43            0.14360         0.09847              0.06158         0.1974   \n",
       "175           0.04276         0.00000              0.00000         0.1722   \n",
       "336           0.09965         0.03738              0.02098         0.1652   \n",
       "\n",
       "     mean fractal dimension  ...  worst texture  worst perimeter  worst area  \\\n",
       "15                  0.07077  ...          37.13           124.10       943.2   \n",
       "52                  0.06110  ...          21.33            83.67       527.2   \n",
       "43                  0.06782  ...          28.00           113.10       907.2   \n",
       "175                 0.06724  ...          17.04            58.36       259.2   \n",
       "336                 0.07238  ...          16.91            87.38       576.0   \n",
       "\n",
       "     worst smoothness  worst compactness  worst concavity  \\\n",
       "15             0.1678            0.65770          0.70260   \n",
       "52             0.1144            0.08906          0.09203   \n",
       "43             0.1530            0.37240          0.36640   \n",
       "175            0.1162            0.07057          0.00000   \n",
       "336            0.1142            0.19750          0.14500   \n",
       "\n",
       "     worst concave points  worst symmetry  worst fractal dimension  target  \n",
       "15                0.17120          0.4218                  0.13410       0  \n",
       "52                0.06296          0.2785                  0.07408       1  \n",
       "43                0.14920          0.3739                  0.10270       0  \n",
       "175               0.00000          0.2592                  0.07848       1  \n",
       "336               0.05850          0.2432                  0.10090       1  \n",
       "\n",
       "[5 rows x 31 columns]"
      ]
     },
     "execution_count": 19,
     "metadata": {},
     "output_type": "execute_result"
    }
   ],
   "source": [
    "train_df.head()"
   ]
  },
  {
   "cell_type": "code",
   "execution_count": 23,
   "id": "d293b624",
   "metadata": {},
   "outputs": [],
   "source": [
    "# names\n",
    "features = [x for x in train_df.columns if x != 'target']\n",
    "\n",
    "TARGET = 'target'"
   ]
  },
  {
   "cell_type": "code",
   "execution_count": 26,
   "id": "e0de3751",
   "metadata": {},
   "outputs": [],
   "source": [
    "x_train = train_df[features].values\n",
    "x_valid = valid_df[features].values\n",
    "\n",
    "y_train = train_df[TARGET].values\n",
    "y_valid = valid_df[TARGET].values"
   ]
  },
  {
   "cell_type": "code",
   "execution_count": 32,
   "id": "67a0ff2d",
   "metadata": {},
   "outputs": [],
   "source": [
    "# Apply standard scaler: a good enough preprocessing step\n",
    "sc = StandardScaler()\n",
    "\n",
    "x_train_scaled = sc.fit_transform(x_train)\n",
    "x_valid_scaled = sc.transform(x_valid)"
   ]
  },
  {
   "cell_type": "markdown",
   "id": "fd55fced",
   "metadata": {},
   "source": [
    "### data is ready for training. We will use LightGBM\n",
    "* all features are continuous"
   ]
  },
  {
   "cell_type": "code",
   "execution_count": 39,
   "id": "7d7df282",
   "metadata": {},
   "outputs": [
    {
     "name": "stderr",
     "output_type": "stream",
     "text": [
      "/home/datascience/conda/mlcpuv1/lib/python3.6/site-packages/lightgbm/engine.py:153: UserWarning: Found `early_stopping_rounds` in params. Will use it instead of argument\n",
      "  warnings.warn(\"Found `{}` in params. Will use it instead of argument\".format(alias))\n"
     ]
    },
    {
     "name": "stdout",
     "output_type": "stream",
     "text": [
      "[1]\tvalid_0's auc: 0.976658\tvalid_0's binary_logloss: 0.602441\n",
      "Training until validation scores don't improve for 20 rounds\n",
      "[2]\tvalid_0's auc: 0.976658\tvalid_0's binary_logloss: 0.570547\n",
      "[3]\tvalid_0's auc: 0.97894\tvalid_0's binary_logloss: 0.542051\n",
      "[4]\tvalid_0's auc: 0.97894\tvalid_0's binary_logloss: 0.51706\n",
      "[5]\tvalid_0's auc: 0.982801\tvalid_0's binary_logloss: 0.49427\n",
      "[6]\tvalid_0's auc: 0.982976\tvalid_0's binary_logloss: 0.473601\n",
      "[7]\tvalid_0's auc: 0.987364\tvalid_0's binary_logloss: 0.452641\n",
      "[8]\tvalid_0's auc: 0.987364\tvalid_0's binary_logloss: 0.434237\n",
      "[9]\tvalid_0's auc: 0.989119\tvalid_0's binary_logloss: 0.416401\n",
      "[10]\tvalid_0's auc: 0.988066\tvalid_0's binary_logloss: 0.400428\n",
      "[11]\tvalid_0's auc: 0.990523\tvalid_0's binary_logloss: 0.386491\n",
      "[12]\tvalid_0's auc: 0.989821\tvalid_0's binary_logloss: 0.373434\n",
      "[13]\tvalid_0's auc: 0.990523\tvalid_0's binary_logloss: 0.359405\n",
      "[14]\tvalid_0's auc: 0.990172\tvalid_0's binary_logloss: 0.347737\n",
      "[15]\tvalid_0's auc: 0.989119\tvalid_0's binary_logloss: 0.335918\n",
      "[16]\tvalid_0's auc: 0.989119\tvalid_0's binary_logloss: 0.32542\n",
      "[17]\tvalid_0's auc: 0.989821\tvalid_0's binary_logloss: 0.314076\n",
      "[18]\tvalid_0's auc: 0.990172\tvalid_0's binary_logloss: 0.304293\n",
      "[19]\tvalid_0's auc: 0.989821\tvalid_0's binary_logloss: 0.294356\n",
      "[20]\tvalid_0's auc: 0.990172\tvalid_0's binary_logloss: 0.286878\n",
      "[21]\tvalid_0's auc: 0.989821\tvalid_0's binary_logloss: 0.278694\n",
      "[22]\tvalid_0's auc: 0.990172\tvalid_0's binary_logloss: 0.270463\n",
      "[23]\tvalid_0's auc: 0.990172\tvalid_0's binary_logloss: 0.264566\n",
      "[24]\tvalid_0's auc: 0.990523\tvalid_0's binary_logloss: 0.257633\n",
      "[25]\tvalid_0's auc: 0.990172\tvalid_0's binary_logloss: 0.2501\n",
      "[26]\tvalid_0's auc: 0.990874\tvalid_0's binary_logloss: 0.243194\n",
      "[27]\tvalid_0's auc: 0.990523\tvalid_0's binary_logloss: 0.236617\n",
      "[28]\tvalid_0's auc: 0.989821\tvalid_0's binary_logloss: 0.230597\n",
      "[29]\tvalid_0's auc: 0.989821\tvalid_0's binary_logloss: 0.22553\n",
      "[30]\tvalid_0's auc: 0.990874\tvalid_0's binary_logloss: 0.219837\n",
      "[31]\tvalid_0's auc: 0.990172\tvalid_0's binary_logloss: 0.216103\n",
      "[32]\tvalid_0's auc: 0.990172\tvalid_0's binary_logloss: 0.211374\n",
      "[33]\tvalid_0's auc: 0.992278\tvalid_0's binary_logloss: 0.205274\n",
      "[34]\tvalid_0's auc: 0.991927\tvalid_0's binary_logloss: 0.202346\n",
      "[35]\tvalid_0's auc: 0.990523\tvalid_0's binary_logloss: 0.198449\n",
      "[36]\tvalid_0's auc: 0.99298\tvalid_0's binary_logloss: 0.193631\n",
      "[37]\tvalid_0's auc: 0.99298\tvalid_0's binary_logloss: 0.189613\n",
      "[38]\tvalid_0's auc: 0.992629\tvalid_0's binary_logloss: 0.186311\n",
      "[39]\tvalid_0's auc: 0.99298\tvalid_0's binary_logloss: 0.182175\n",
      "[40]\tvalid_0's auc: 0.993331\tvalid_0's binary_logloss: 0.179002\n",
      "[41]\tvalid_0's auc: 0.99298\tvalid_0's binary_logloss: 0.175713\n",
      "[42]\tvalid_0's auc: 0.993331\tvalid_0's binary_logloss: 0.172582\n",
      "[43]\tvalid_0's auc: 0.99298\tvalid_0's binary_logloss: 0.168331\n",
      "[44]\tvalid_0's auc: 0.99298\tvalid_0's binary_logloss: 0.165791\n",
      "[45]\tvalid_0's auc: 0.99298\tvalid_0's binary_logloss: 0.163769\n",
      "[46]\tvalid_0's auc: 0.992278\tvalid_0's binary_logloss: 0.160804\n",
      "[47]\tvalid_0's auc: 0.992278\tvalid_0's binary_logloss: 0.159746\n",
      "[48]\tvalid_0's auc: 0.992278\tvalid_0's binary_logloss: 0.157427\n",
      "[49]\tvalid_0's auc: 0.992278\tvalid_0's binary_logloss: 0.156167\n",
      "[50]\tvalid_0's auc: 0.991576\tvalid_0's binary_logloss: 0.153773\n",
      "[51]\tvalid_0's auc: 0.991576\tvalid_0's binary_logloss: 0.150805\n",
      "[52]\tvalid_0's auc: 0.991576\tvalid_0's binary_logloss: 0.148679\n",
      "[53]\tvalid_0's auc: 0.991927\tvalid_0's binary_logloss: 0.147544\n",
      "[54]\tvalid_0's auc: 0.991576\tvalid_0's binary_logloss: 0.144626\n",
      "[55]\tvalid_0's auc: 0.991927\tvalid_0's binary_logloss: 0.142799\n",
      "[56]\tvalid_0's auc: 0.992278\tvalid_0's binary_logloss: 0.140271\n",
      "[57]\tvalid_0's auc: 0.992629\tvalid_0's binary_logloss: 0.138475\n",
      "[58]\tvalid_0's auc: 0.992278\tvalid_0's binary_logloss: 0.137225\n",
      "[59]\tvalid_0's auc: 0.992629\tvalid_0's binary_logloss: 0.136025\n",
      "[60]\tvalid_0's auc: 0.992278\tvalid_0's binary_logloss: 0.134946\n",
      "Early stopping, best iteration is:\n",
      "[40]\tvalid_0's auc: 0.993331\tvalid_0's binary_logloss: 0.179002\n",
      "CPU times: user 32.5 s, sys: 51.6 ms, total: 32.5 s\n",
      "Wall time: 11.4 s\n"
     ]
    }
   ],
   "source": [
    "%%time\n",
    "\n",
    "params = {\n",
    "   \"learning_rate\": 0.05\n",
    "}\n",
    "\n",
    "model = lgb.LGBMClassifier(objective='binary', seed=4321, n_jobs=-1, n_estimators=100, num_leaves = 30, max_depth=15, early_stopping_rounds=20, \n",
    "                          learning_rate = 0.05)\n",
    "\n",
    "best_model = model.fit(x_train_scaled, y_train, eval_set=[(x_valid_scaled, y_valid)], verbose=1, feature_name=features, eval_metric = 'auc')"
   ]
  },
  {
   "cell_type": "code",
   "execution_count": 40,
   "id": "49601a75",
   "metadata": {},
   "outputs": [
    {
     "data": {
      "image/png": "[encoded data removed]",
      "text/plain": [
       "<Figure size 648x432 with 1 Axes>"
      ]
     },
     "metadata": {
      "needs_background": "light"
     },
     "output_type": "display_data"
    }
   ],
   "source": [
    "lgb.plot_metric(model, metric='auc', figsize=(9, 6), title='validation AUC');"
   ]
  },
  {
   "cell_type": "code",
   "execution_count": 42,
   "id": "c0afca13",
   "metadata": {},
   "outputs": [
    {
     "data": {
      "image/png": "[encoded data removed]",
      "text/plain": [
       "<Figure size 648x432 with 1 Axes>"
      ]
     },
     "metadata": {
      "needs_background": "light"
     },
     "output_type": "display_data"
    }
   ],
   "source": [
    "lgb.plot_importance(model, figsize=(9, 6), max_num_features=15);"
   ]
  },
  {
   "cell_type": "code",
   "execution_count": 46,
   "id": "7602740e",
   "metadata": {},
   "outputs": [],
   "source": [
    "y_pred = best_model.predict_proba(x_valid_scaled)\n",
    "\n",
    "y_pred = y_pred[:, 1]"
   ]
  },
  {
   "cell_type": "code",
   "execution_count": 48,
   "id": "7b18d0a6",
   "metadata": {},
   "outputs": [],
   "source": [
    "y_pred_labels = best_model.predict(x_valid_scaled)"
   ]
  },
  {
   "cell_type": "code",
   "execution_count": 49,
   "id": "f7e9a8ad",
   "metadata": {},
   "outputs": [],
   "source": [
    "cm = confusion_matrix(y_valid, y_pred_labels)"
   ]
  },
  {
   "cell_type": "code",
   "execution_count": 51,
   "id": "cf92c87c",
   "metadata": {},
   "outputs": [
    {
     "data": {
      "image/png": "[encoded data removed]",
      "text/plain": [
       "<Figure size 432x288 with 2 Axes>"
      ]
     },
     "metadata": {
      "needs_background": "light"
     },
     "output_type": "display_data"
    }
   ],
   "source": [
    "disp = ConfusionMatrixDisplay(confusion_matrix=cm)\n",
    "\n",
    "disp.plot();"
   ]
  },
  {
   "cell_type": "code",
   "execution_count": null,
   "id": "25c4b0bb",
   "metadata": {},
   "outputs": [],
   "source": []
  }
 ],
 "metadata": {
  "kernelspec": {
   "display_name": "Python [conda env:mlcpuv1]",
   "language": "python",
   "name": "conda-env-mlcpuv1-py"
  },
  "language_info": {
   "codemirror_mode": {
    "name": "ipython",
    "version": 3
   },
   "file_extension": ".py",
   "mimetype": "text/x-python",
   "name": "python",
   "nbconvert_exporter": "python",
   "pygments_lexer": "ipython3",
   "version": "3.6.11"
  }
 },
 "nbformat": 4,
 "nbformat_minor": 5
}
