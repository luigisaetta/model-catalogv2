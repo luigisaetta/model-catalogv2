{
 "cells": [
  {
   "cell_type": "markdown",
   "id": "7720f473",
   "metadata": {},
   "source": [
    "### Model Catalog: train the model\n",
    "\n",
    "* dataset: Breast Cancer Dataset\n",
    "* model: LightGBM\n",
    "\n",
    "The goal here is not to develop the best model. We will use some reasonable techniques to get a good model and then we will save it to the model catalog"
   ]
  },
  {
   "cell_type": "code",
   "execution_count": 1,
   "id": "43a108da",
   "metadata": {},
   "outputs": [],
   "source": [
    "import pandas as pd\n",
    "import numpy as np\n",
    "\n",
    "from sklearn.datasets import load_breast_cancer\n",
    "from sklearn.preprocessing import StandardScaler\n",
    "from sklearn.metrics import confusion_matrix, ConfusionMatrixDisplay\n",
    "\n",
    "import lightgbm as lgb"
   ]
  },
  {
   "cell_type": "code",
   "execution_count": 2,
   "id": "79569cfb",
   "metadata": {},
   "outputs": [
    {
     "data": {
      "text/plain": [
       "(569, 31)"
      ]
     },
     "execution_count": 2,
     "metadata": {},
     "output_type": "execute_result"
    }
   ],
   "source": [
    "### load the data from sklearn\n",
    "data = load_breast_cancer(as_frame=True)\n",
    "\n",
    "# as Pandas DataFRame\n",
    "orig_df = data.frame\n",
    "\n",
    "orig_df.shape"
   ]
  },
  {
   "cell_type": "code",
   "execution_count": 3,
   "id": "c17670cd",
   "metadata": {},
   "outputs": [
    {
     "data": {
      "text/plain": [
       "array([0, 1])"
      ]
     },
     "execution_count": 3,
     "metadata": {},
     "output_type": "execute_result"
    }
   ],
   "source": [
    "# target column\n",
    "orig_df['target'].unique()"
   ]
  },
  {
   "cell_type": "code",
   "execution_count": 4,
   "id": "26848780",
   "metadata": {},
   "outputs": [
    {
     "name": "stdout",
     "output_type": "stream",
     "text": [
      "Num training samples: 455\n",
      "Num validation samples: 114\n"
     ]
    }
   ],
   "source": [
    "# static train/validation split\n",
    "TRAIN_FRAC = 0.8\n",
    "NUM_TRAIN = int(TRAIN_FRAC*orig_df.shape[0])\n",
    "\n",
    "# shuffle\n",
    "orig_df = orig_df.sample(frac = 1.)\n",
    "\n",
    "train_df = orig_df[0:NUM_TRAIN]\n",
    "valid_df = orig_df[NUM_TRAIN:]\n",
    "\n",
    "print('Num training samples:', train_df.shape[0])\n",
    "print('Num validation samples:', valid_df.shape[0])"
   ]
  },
  {
   "cell_type": "code",
   "execution_count": 5,
   "id": "56169444",
   "metadata": {},
   "outputs": [
    {
     "data": {
      "text/html": [
       "<div>\n",
       "<style scoped>\n",
       "    .dataframe tbody tr th:only-of-type {\n",
       "        vertical-align: middle;\n",
       "    }\n",
       "\n",
       "    .dataframe tbody tr th {\n",
       "        vertical-align: top;\n",
       "    }\n",
       "\n",
       "    .dataframe thead th {\n",
       "        text-align: right;\n",
       "    }\n",
       "</style>\n",
       "<table border=\"1\" class=\"dataframe\">\n",
       "  <thead>\n",
       "    <tr style=\"text-align: right;\">\n",
       "      <th></th>\n",
       "      <th>mean radius</th>\n",
       "      <th>mean texture</th>\n",
       "      <th>mean perimeter</th>\n",
       "      <th>mean area</th>\n",
       "      <th>mean smoothness</th>\n",
       "      <th>mean compactness</th>\n",
       "      <th>mean concavity</th>\n",
       "      <th>mean concave points</th>\n",
       "      <th>mean symmetry</th>\n",
       "      <th>mean fractal dimension</th>\n",
       "      <th>...</th>\n",
       "      <th>worst texture</th>\n",
       "      <th>worst perimeter</th>\n",
       "      <th>worst area</th>\n",
       "      <th>worst smoothness</th>\n",
       "      <th>worst compactness</th>\n",
       "      <th>worst concavity</th>\n",
       "      <th>worst concave points</th>\n",
       "      <th>worst symmetry</th>\n",
       "      <th>worst fractal dimension</th>\n",
       "      <th>target</th>\n",
       "    </tr>\n",
       "  </thead>\n",
       "  <tbody>\n",
       "    <tr>\n",
       "      <th>346</th>\n",
       "      <td>12.06</td>\n",
       "      <td>18.90</td>\n",
       "      <td>76.66</td>\n",
       "      <td>445.3</td>\n",
       "      <td>0.08386</td>\n",
       "      <td>0.05794</td>\n",
       "      <td>0.00751</td>\n",
       "      <td>0.008488</td>\n",
       "      <td>0.1555</td>\n",
       "      <td>0.06048</td>\n",
       "      <td>...</td>\n",
       "      <td>27.06</td>\n",
       "      <td>86.54</td>\n",
       "      <td>562.6</td>\n",
       "      <td>0.12890</td>\n",
       "      <td>0.13520</td>\n",
       "      <td>0.04506</td>\n",
       "      <td>0.05093</td>\n",
       "      <td>0.2880</td>\n",
       "      <td>0.08083</td>\n",
       "      <td>1</td>\n",
       "    </tr>\n",
       "    <tr>\n",
       "      <th>85</th>\n",
       "      <td>18.46</td>\n",
       "      <td>18.52</td>\n",
       "      <td>121.10</td>\n",
       "      <td>1075.0</td>\n",
       "      <td>0.09874</td>\n",
       "      <td>0.10530</td>\n",
       "      <td>0.13350</td>\n",
       "      <td>0.087950</td>\n",
       "      <td>0.2132</td>\n",
       "      <td>0.06022</td>\n",
       "      <td>...</td>\n",
       "      <td>27.68</td>\n",
       "      <td>152.20</td>\n",
       "      <td>1603.0</td>\n",
       "      <td>0.13980</td>\n",
       "      <td>0.20890</td>\n",
       "      <td>0.31570</td>\n",
       "      <td>0.16420</td>\n",
       "      <td>0.3695</td>\n",
       "      <td>0.08579</td>\n",
       "      <td>0</td>\n",
       "    </tr>\n",
       "    <tr>\n",
       "      <th>561</th>\n",
       "      <td>11.20</td>\n",
       "      <td>29.37</td>\n",
       "      <td>70.67</td>\n",
       "      <td>386.0</td>\n",
       "      <td>0.07449</td>\n",
       "      <td>0.03558</td>\n",
       "      <td>0.00000</td>\n",
       "      <td>0.000000</td>\n",
       "      <td>0.1060</td>\n",
       "      <td>0.05502</td>\n",
       "      <td>...</td>\n",
       "      <td>38.30</td>\n",
       "      <td>75.19</td>\n",
       "      <td>439.6</td>\n",
       "      <td>0.09267</td>\n",
       "      <td>0.05494</td>\n",
       "      <td>0.00000</td>\n",
       "      <td>0.00000</td>\n",
       "      <td>0.1566</td>\n",
       "      <td>0.05905</td>\n",
       "      <td>1</td>\n",
       "    </tr>\n",
       "    <tr>\n",
       "      <th>331</th>\n",
       "      <td>12.98</td>\n",
       "      <td>19.35</td>\n",
       "      <td>84.52</td>\n",
       "      <td>514.0</td>\n",
       "      <td>0.09579</td>\n",
       "      <td>0.11250</td>\n",
       "      <td>0.07107</td>\n",
       "      <td>0.029500</td>\n",
       "      <td>0.1761</td>\n",
       "      <td>0.06540</td>\n",
       "      <td>...</td>\n",
       "      <td>21.95</td>\n",
       "      <td>99.21</td>\n",
       "      <td>634.3</td>\n",
       "      <td>0.12880</td>\n",
       "      <td>0.32530</td>\n",
       "      <td>0.34390</td>\n",
       "      <td>0.09858</td>\n",
       "      <td>0.3596</td>\n",
       "      <td>0.09166</td>\n",
       "      <td>1</td>\n",
       "    </tr>\n",
       "    <tr>\n",
       "      <th>274</th>\n",
       "      <td>17.93</td>\n",
       "      <td>24.48</td>\n",
       "      <td>115.20</td>\n",
       "      <td>998.9</td>\n",
       "      <td>0.08855</td>\n",
       "      <td>0.07027</td>\n",
       "      <td>0.05699</td>\n",
       "      <td>0.047440</td>\n",
       "      <td>0.1538</td>\n",
       "      <td>0.05510</td>\n",
       "      <td>...</td>\n",
       "      <td>34.69</td>\n",
       "      <td>135.10</td>\n",
       "      <td>1320.0</td>\n",
       "      <td>0.13150</td>\n",
       "      <td>0.18060</td>\n",
       "      <td>0.20800</td>\n",
       "      <td>0.11360</td>\n",
       "      <td>0.2504</td>\n",
       "      <td>0.07948</td>\n",
       "      <td>0</td>\n",
       "    </tr>\n",
       "  </tbody>\n",
       "</table>\n",
       "<p>5 rows × 31 columns</p>\n",
       "</div>"
      ],
      "text/plain": [
       "     mean radius  mean texture  mean perimeter  mean area  mean smoothness  \\\n",
       "346        12.06         18.90           76.66      445.3          0.08386   \n",
       "85         18.46         18.52          121.10     1075.0          0.09874   \n",
       "561        11.20         29.37           70.67      386.0          0.07449   \n",
       "331        12.98         19.35           84.52      514.0          0.09579   \n",
       "274        17.93         24.48          115.20      998.9          0.08855   \n",
       "\n",
       "     mean compactness  mean concavity  mean concave points  mean symmetry  \\\n",
       "346           0.05794         0.00751             0.008488         0.1555   \n",
       "85            0.10530         0.13350             0.087950         0.2132   \n",
       "561           0.03558         0.00000             0.000000         0.1060   \n",
       "331           0.11250         0.07107             0.029500         0.1761   \n",
       "274           0.07027         0.05699             0.047440         0.1538   \n",
       "\n",
       "     mean fractal dimension  ...  worst texture  worst perimeter  worst area  \\\n",
       "346                 0.06048  ...          27.06            86.54       562.6   \n",
       "85                  0.06022  ...          27.68           152.20      1603.0   \n",
       "561                 0.05502  ...          38.30            75.19       439.6   \n",
       "331                 0.06540  ...          21.95            99.21       634.3   \n",
       "274                 0.05510  ...          34.69           135.10      1320.0   \n",
       "\n",
       "     worst smoothness  worst compactness  worst concavity  \\\n",
       "346           0.12890            0.13520          0.04506   \n",
       "85            0.13980            0.20890          0.31570   \n",
       "561           0.09267            0.05494          0.00000   \n",
       "331           0.12880            0.32530          0.34390   \n",
       "274           0.13150            0.18060          0.20800   \n",
       "\n",
       "     worst concave points  worst symmetry  worst fractal dimension  target  \n",
       "346               0.05093          0.2880                  0.08083       1  \n",
       "85                0.16420          0.3695                  0.08579       0  \n",
       "561               0.00000          0.1566                  0.05905       1  \n",
       "331               0.09858          0.3596                  0.09166       1  \n",
       "274               0.11360          0.2504                  0.07948       0  \n",
       "\n",
       "[5 rows x 31 columns]"
      ]
     },
     "execution_count": 5,
     "metadata": {},
     "output_type": "execute_result"
    }
   ],
   "source": [
    "train_df.head()"
   ]
  },
  {
   "cell_type": "code",
   "execution_count": 6,
   "id": "27d2156b",
   "metadata": {},
   "outputs": [],
   "source": [
    "# names\n",
    "features = [x for x in train_df.columns if x != 'target']\n",
    "\n",
    "TARGET = 'target'"
   ]
  },
  {
   "cell_type": "code",
   "execution_count": 7,
   "id": "6f4804f9",
   "metadata": {},
   "outputs": [],
   "source": [
    "x_train = train_df[features].values\n",
    "x_valid = valid_df[features].values\n",
    "\n",
    "y_train = train_df[TARGET].values\n",
    "y_valid = valid_df[TARGET].values"
   ]
  },
  {
   "cell_type": "code",
   "execution_count": 8,
   "id": "7127b523",
   "metadata": {},
   "outputs": [],
   "source": [
    "# Apply standard scaler: a good enough preprocessing step\n",
    "sc = StandardScaler()\n",
    "\n",
    "x_train_scaled = sc.fit_transform(x_train)\n",
    "x_valid_scaled = sc.transform(x_valid)"
   ]
  },
  {
   "cell_type": "markdown",
   "id": "1bd44009",
   "metadata": {},
   "source": [
    "### data is ready for training. We will use LightGBM\n",
    "* all features are continuous"
   ]
  },
  {
   "cell_type": "code",
   "execution_count": 9,
   "id": "b81ae2ed",
   "metadata": {},
   "outputs": [
    {
     "name": "stderr",
     "output_type": "stream",
     "text": [
      "/home/datascience/conda/mlcpuv1/lib/python3.6/site-packages/lightgbm/engine.py:153: UserWarning: Found `early_stopping_rounds` in params. Will use it instead of argument\n",
      "  warnings.warn(\"Found `{}` in params. Will use it instead of argument\".format(alias))\n"
     ]
    },
    {
     "name": "stdout",
     "output_type": "stream",
     "text": [
      "[1]\tvalid_0's auc: 0.969404\tvalid_0's binary_logloss: 0.632901\n",
      "Training until validation scores don't improve for 20 rounds\n",
      "[2]\tvalid_0's auc: 0.976329\tvalid_0's binary_logloss: 0.597626\n",
      "[3]\tvalid_0's auc: 0.976973\tvalid_0's binary_logloss: 0.566289\n",
      "[4]\tvalid_0's auc: 0.978422\tvalid_0's binary_logloss: 0.537107\n",
      "[5]\tvalid_0's auc: 0.980515\tvalid_0's binary_logloss: 0.510396\n",
      "[6]\tvalid_0's auc: 0.981965\tvalid_0's binary_logloss: 0.486659\n",
      "[7]\tvalid_0's auc: 0.982931\tvalid_0's binary_logloss: 0.464237\n",
      "[8]\tvalid_0's auc: 0.982287\tvalid_0's binary_logloss: 0.443871\n",
      "[9]\tvalid_0's auc: 0.983253\tvalid_0's binary_logloss: 0.424946\n",
      "[10]\tvalid_0's auc: 0.982448\tvalid_0's binary_logloss: 0.407319\n",
      "[11]\tvalid_0's auc: 0.983897\tvalid_0's binary_logloss: 0.390288\n",
      "[12]\tvalid_0's auc: 0.983897\tvalid_0's binary_logloss: 0.375774\n",
      "[13]\tvalid_0's auc: 0.985024\tvalid_0's binary_logloss: 0.361987\n",
      "[14]\tvalid_0's auc: 0.985024\tvalid_0's binary_logloss: 0.349325\n",
      "[15]\tvalid_0's auc: 0.984702\tvalid_0's binary_logloss: 0.337127\n",
      "[16]\tvalid_0's auc: 0.985346\tvalid_0's binary_logloss: 0.326138\n",
      "[17]\tvalid_0's auc: 0.986312\tvalid_0's binary_logloss: 0.314436\n",
      "[18]\tvalid_0's auc: 0.986957\tvalid_0's binary_logloss: 0.304169\n",
      "[19]\tvalid_0's auc: 0.986957\tvalid_0's binary_logloss: 0.294956\n",
      "[20]\tvalid_0's auc: 0.988084\tvalid_0's binary_logloss: 0.285332\n",
      "[21]\tvalid_0's auc: 0.988406\tvalid_0's binary_logloss: 0.276757\n",
      "[22]\tvalid_0's auc: 0.988728\tvalid_0's binary_logloss: 0.268295\n",
      "[23]\tvalid_0's auc: 0.988728\tvalid_0's binary_logloss: 0.260389\n",
      "[24]\tvalid_0's auc: 0.988084\tvalid_0's binary_logloss: 0.25362\n",
      "[25]\tvalid_0's auc: 0.988728\tvalid_0's binary_logloss: 0.246131\n",
      "[26]\tvalid_0's auc: 0.988728\tvalid_0's binary_logloss: 0.239747\n",
      "[27]\tvalid_0's auc: 0.98905\tvalid_0's binary_logloss: 0.233325\n",
      "[28]\tvalid_0's auc: 0.989372\tvalid_0's binary_logloss: 0.226815\n",
      "[29]\tvalid_0's auc: 0.989372\tvalid_0's binary_logloss: 0.221662\n",
      "[30]\tvalid_0's auc: 0.989372\tvalid_0's binary_logloss: 0.215962\n",
      "[31]\tvalid_0's auc: 0.989372\tvalid_0's binary_logloss: 0.210658\n",
      "[32]\tvalid_0's auc: 0.989372\tvalid_0's binary_logloss: 0.206156\n",
      "[33]\tvalid_0's auc: 0.989372\tvalid_0's binary_logloss: 0.201193\n",
      "[34]\tvalid_0's auc: 0.989694\tvalid_0's binary_logloss: 0.196564\n",
      "[35]\tvalid_0's auc: 0.989372\tvalid_0's binary_logloss: 0.192836\n",
      "[36]\tvalid_0's auc: 0.989694\tvalid_0's binary_logloss: 0.188621\n",
      "[37]\tvalid_0's auc: 0.990016\tvalid_0's binary_logloss: 0.185125\n",
      "[38]\tvalid_0's auc: 0.990338\tvalid_0's binary_logloss: 0.18122\n",
      "[39]\tvalid_0's auc: 0.990338\tvalid_0's binary_logloss: 0.177695\n",
      "[40]\tvalid_0's auc: 0.99066\tvalid_0's binary_logloss: 0.174264\n",
      "[41]\tvalid_0's auc: 0.99066\tvalid_0's binary_logloss: 0.171536\n",
      "[42]\tvalid_0's auc: 0.99066\tvalid_0's binary_logloss: 0.16835\n",
      "[43]\tvalid_0's auc: 0.99066\tvalid_0's binary_logloss: 0.165456\n",
      "[44]\tvalid_0's auc: 0.99066\tvalid_0's binary_logloss: 0.162718\n",
      "[45]\tvalid_0's auc: 0.99066\tvalid_0's binary_logloss: 0.160479\n",
      "[46]\tvalid_0's auc: 0.990982\tvalid_0's binary_logloss: 0.157339\n",
      "[47]\tvalid_0's auc: 0.991626\tvalid_0's binary_logloss: 0.155719\n",
      "[48]\tvalid_0's auc: 0.991304\tvalid_0's binary_logloss: 0.153615\n",
      "[49]\tvalid_0's auc: 0.990982\tvalid_0's binary_logloss: 0.151549\n",
      "[50]\tvalid_0's auc: 0.991626\tvalid_0's binary_logloss: 0.149752\n",
      "[51]\tvalid_0's auc: 0.991948\tvalid_0's binary_logloss: 0.148625\n",
      "[52]\tvalid_0's auc: 0.991948\tvalid_0's binary_logloss: 0.146184\n",
      "[53]\tvalid_0's auc: 0.991948\tvalid_0's binary_logloss: 0.144574\n",
      "[54]\tvalid_0's auc: 0.992271\tvalid_0's binary_logloss: 0.142551\n",
      "[55]\tvalid_0's auc: 0.992271\tvalid_0's binary_logloss: 0.140419\n",
      "[56]\tvalid_0's auc: 0.992271\tvalid_0's binary_logloss: 0.13795\n",
      "[57]\tvalid_0's auc: 0.992271\tvalid_0's binary_logloss: 0.136317\n",
      "[58]\tvalid_0's auc: 0.992271\tvalid_0's binary_logloss: 0.135753\n",
      "[59]\tvalid_0's auc: 0.992271\tvalid_0's binary_logloss: 0.13388\n",
      "[60]\tvalid_0's auc: 0.992593\tvalid_0's binary_logloss: 0.132339\n",
      "[61]\tvalid_0's auc: 0.992593\tvalid_0's binary_logloss: 0.131052\n",
      "[62]\tvalid_0's auc: 0.992271\tvalid_0's binary_logloss: 0.130781\n",
      "[63]\tvalid_0's auc: 0.992271\tvalid_0's binary_logloss: 0.129237\n",
      "[64]\tvalid_0's auc: 0.992271\tvalid_0's binary_logloss: 0.128756\n",
      "[65]\tvalid_0's auc: 0.992593\tvalid_0's binary_logloss: 0.127769\n",
      "[66]\tvalid_0's auc: 0.992593\tvalid_0's binary_logloss: 0.125586\n",
      "[67]\tvalid_0's auc: 0.992593\tvalid_0's binary_logloss: 0.124393\n",
      "[68]\tvalid_0's auc: 0.992593\tvalid_0's binary_logloss: 0.123147\n",
      "[69]\tvalid_0's auc: 0.992593\tvalid_0's binary_logloss: 0.122916\n",
      "[70]\tvalid_0's auc: 0.992593\tvalid_0's binary_logloss: 0.122316\n",
      "[71]\tvalid_0's auc: 0.992593\tvalid_0's binary_logloss: 0.120586\n",
      "[72]\tvalid_0's auc: 0.992271\tvalid_0's binary_logloss: 0.120415\n",
      "[73]\tvalid_0's auc: 0.991948\tvalid_0's binary_logloss: 0.119961\n",
      "[74]\tvalid_0's auc: 0.991948\tvalid_0's binary_logloss: 0.119935\n",
      "[75]\tvalid_0's auc: 0.992271\tvalid_0's binary_logloss: 0.117751\n",
      "[76]\tvalid_0's auc: 0.992271\tvalid_0's binary_logloss: 0.117747\n",
      "[77]\tvalid_0's auc: 0.992271\tvalid_0's binary_logloss: 0.117822\n",
      "[78]\tvalid_0's auc: 0.992593\tvalid_0's binary_logloss: 0.116807\n",
      "[79]\tvalid_0's auc: 0.992593\tvalid_0's binary_logloss: 0.115569\n",
      "[80]\tvalid_0's auc: 0.992593\tvalid_0's binary_logloss: 0.115652\n",
      "Early stopping, best iteration is:\n",
      "[60]\tvalid_0's auc: 0.992593\tvalid_0's binary_logloss: 0.132339\n",
      "CPU times: user 11.2 s, sys: 84.8 ms, total: 11.3 s\n",
      "Wall time: 4.3 s\n"
     ]
    }
   ],
   "source": [
    "%%time\n",
    "\n",
    "params = {\n",
    "   \"learning_rate\": 0.05\n",
    "}\n",
    "\n",
    "model = lgb.LGBMClassifier(objective='binary', seed=4321, n_jobs=-1, n_estimators=100, num_leaves = 30, max_depth=15, early_stopping_rounds=20, \n",
    "                          learning_rate = 0.05)\n",
    "\n",
    "best_model = model.fit(x_train_scaled, y_train, eval_set=[(x_valid_scaled, y_valid)], verbose=1, feature_name=features, eval_metric = 'auc')"
   ]
  },
  {
   "cell_type": "code",
   "execution_count": 10,
   "id": "0b5fcdd6",
   "metadata": {},
   "outputs": [
    {
     "data": {
      "image/png": "[encoded data removed]",
      "text/plain": [
       "<Figure size 648x432 with 1 Axes>"
      ]
     },
     "metadata": {
      "needs_background": "light"
     },
     "output_type": "display_data"
    }
   ],
   "source": [
    "lgb.plot_metric(model, metric='auc', figsize=(9, 6), title='validation AUC');"
   ]
  },
  {
   "cell_type": "code",
   "execution_count": 11,
   "id": "4de36a1e",
   "metadata": {},
   "outputs": [
    {
     "data": {
      "image/png": "[encoded data removed]",
      "text/plain": [
       "<Figure size 648x432 with 1 Axes>"
      ]
     },
     "metadata": {
      "needs_background": "light"
     },
     "output_type": "display_data"
    }
   ],
   "source": [
    "lgb.plot_importance(model, figsize=(9, 6), max_num_features=15);"
   ]
  },
  {
   "cell_type": "code",
   "execution_count": 12,
   "id": "4b8869c0",
   "metadata": {},
   "outputs": [],
   "source": [
    "y_pred = best_model.predict_proba(x_valid_scaled)\n",
    "\n",
    "y_pred = y_pred[:, 1]"
   ]
  },
  {
   "cell_type": "code",
   "execution_count": 13,
   "id": "58893239",
   "metadata": {},
   "outputs": [],
   "source": [
    "y_pred_labels = best_model.predict(x_valid_scaled)"
   ]
  },
  {
   "cell_type": "code",
   "execution_count": 14,
   "id": "baa9f780",
   "metadata": {},
   "outputs": [],
   "source": [
    "cm = confusion_matrix(y_valid, y_pred_labels)"
   ]
  },
  {
   "cell_type": "code",
   "execution_count": 15,
   "id": "75a83389",
   "metadata": {},
   "outputs": [
    {
     "data": {
      "image/png": "[encoded data removed]",
      "text/plain": [
       "<Figure size 432x288 with 2 Axes>"
      ]
     },
     "metadata": {
      "needs_background": "light"
     },
     "output_type": "display_data"
    }
   ],
   "source": [
    "disp = ConfusionMatrixDisplay(confusion_matrix=cm)\n",
    "\n",
    "disp.plot();"
   ]
  },
  {
   "cell_type": "markdown",
   "id": "059d10f0",
   "metadata": {},
   "source": [
    "### As you can see the model is enough accurate"
   ]
  },
  {
   "cell_type": "code",
   "execution_count": null,
   "id": "37a97874",
   "metadata": {},
   "outputs": [],
   "source": [
    "### Prepare to save the model to Model Catalog"
   ]
  },
  {
   "cell_type": "code",
   "execution_count": 16,
   "id": "161a07f2",
   "metadata": {},
   "outputs": [],
   "source": [
    "from ads.common.model_artifact import ModelArtifact\n",
    "from ads.common.model_export_util import prepare_generic_model\n",
    "from ads import set_auth\n",
    "import os\n",
    "\n",
    "import json\n",
    "import pickle"
   ]
  },
  {
   "cell_type": "code",
   "execution_count": 17,
   "id": "20f891de",
   "metadata": {},
   "outputs": [],
   "source": [
    "# env and auth\n",
    "compartment_id = os.environ['NB_SESSION_COMPARTMENT_OCID']\n",
    "project_id = os.environ['PROJECT_OCID']\n",
    "\n",
    "set_auth(auth='resource_principal')"
   ]
  },
  {
   "cell_type": "code",
   "execution_count": 18,
   "id": "5dfedd91",
   "metadata": {},
   "outputs": [],
   "source": [
    "# 1. prepare artifacts directory\n",
    "\n",
    "PATH_ARTEFACT = f\"./model-files\"\n",
    "\n",
    "if not os.path.exists(PATH_ARTEFACT):\n",
    "    os.mkdir(PATH_ARTEFACT)"
   ]
  },
  {
   "cell_type": "code",
   "execution_count": 20,
   "id": "0643eebd",
   "metadata": {},
   "outputs": [],
   "source": [
    "# 2. Serialize model and scaler\n",
    "pickle.dump(best_model, open(PATH_ARTEFACT + '/model.pkl', 'wb'))\n",
    "      \n",
    "# in addition, for data preprocessing, I need to save the Scaler\n",
    "pickle.dump(sc, open(PATH_ARTEFACT + '/scaler.pkl', 'wb'))"
   ]
  },
  {
   "cell_type": "code",
   "execution_count": 21,
   "id": "a1b245e8",
   "metadata": {},
   "outputs": [
    {
     "data": {
      "application/vnd.jupyter.widget-view+json": {
       "model_id": "",
       "version_major": 2,
       "version_minor": 0
      },
      "text/plain": [
       "HBox(children=(HTML(value='loop1'), FloatProgress(value=0.0, max=4.0), HTML(value='')))"
      ]
     },
     "metadata": {},
     "output_type": "display_data"
    },
    {
     "name": "stdout",
     "output_type": "stream",
     "text": [
      "INFO:ADS:We give you the option to specify a different inference conda environment for model deployment purposes. By default it is assumed to be the same as the conda environment used to train the model. If you wish to specify a different environment for inference purposes, please assign the path of a published or data science conda environment to the optional parameter `inference_conda_env`. \n"
     ]
    }
   ],
   "source": [
    "# 3. prepare deploy to Model Catalog\n",
    "artifact = prepare_generic_model(PATH_ARTEFACT, function_artifacts=False, force_overwrite=True, data_science_env=True)"
   ]
  },
  {
   "cell_type": "code",
   "execution_count": 82,
   "id": "f2593051",
   "metadata": {},
   "outputs": [
    {
     "name": "stdout",
     "output_type": "stream",
     "text": [
      "Overwriting ./model-files/score.py\n"
     ]
    }
   ],
   "source": [
    "%%writefile {PATH_ARTEFACT}/score.py\n",
    "\n",
    "import io\n",
    "import pandas as pd\n",
    "import numpy as np\n",
    "import json\n",
    "import os\n",
    "import pickle\n",
    "import logging \n",
    "\n",
    "model_name = 'model.pkl'\n",
    "scaler_name = 'scaler.pkl'\n",
    "\n",
    "\"\"\"\n",
    "   Inference script. This script is used for prediction by scoring server when schema is known.\n",
    "\"\"\"\n",
    "\n",
    "model = None\n",
    "scaler = None\n",
    "\n",
    "logging.basicConfig(format='%(name)s - %(levelname)s - %(message)s', level=logging.INFO)\n",
    "logger_pred = logging.getLogger('model-prediction')\n",
    "logger_pred.setLevel(logging.INFO)\n",
    "logger_feat = logging.getLogger('features')\n",
    "logger_feat.setLevel(logging.INFO)\n",
    "\n",
    "def load_model():\n",
    "    \"\"\"\n",
    "    Loads model from the serialized format\n",
    "\n",
    "    Returns\n",
    "    -------\n",
    "    model:  a model instance on which predict API can be invoked\n",
    "    \"\"\"\n",
    "    global model, scaler\n",
    "    \n",
    "    model_dir = os.path.dirname(os.path.realpath(__file__))\n",
    "    contents = os.listdir(model_dir)\n",
    "    \n",
    "    if model_name in contents:\n",
    "        with open(os.path.join(os.path.dirname(os.path.realpath(__file__)), model_name), \"rb\") as file:\n",
    "            with open(os.path.join(os.path.dirname(os.path.realpath(__file__)), scaler_name), \"rb\") as sfile:\n",
    "                model = pickle.load(file)\n",
    "                scaler = pickle.load(sfile)\n",
    "                \n",
    "                assert model != None\n",
    "                assert scaler != None\n",
    "                \n",
    "                logger_pred.info(\"Loaded model and scaler...\")\n",
    "    else:\n",
    "        raise Exception('{0} is not found in model directory {1}'.format(model_name, model_dir))\n",
    "    \n",
    "    return model\n",
    "\n",
    "# added for data scaling\n",
    "def preprocess_data(x):\n",
    "    \n",
    "    global scaler\n",
    "    \n",
    "    logger_pred.info(\"Scaling features...\")\n",
    "    \n",
    "    x = scaler.transform(x)\n",
    "    \n",
    "    return x\n",
    "\n",
    "def predict(data, model=load_model()):\n",
    "    \"\"\"\n",
    "    Returns prediction given the model and data to predict\n",
    "\n",
    "    Parameters\n",
    "    ----------\n",
    "    model: Model instance returned by load_model API\n",
    "    data: Data format as expected by the predict API of the core estimator. For eg. in case of sckit models it could be numpy array/List of list/Panda DataFrame\n",
    "\n",
    "    Returns\n",
    "    -------\n",
    "    predictions: Output from scoring server\n",
    "        Format: {'prediction':output from model.predict method}\n",
    "\n",
    "    \"\"\"\n",
    "    \n",
    "    logger_pred.info(\"In predict...\")\n",
    "    \n",
    "    # some check\n",
    "    assert model is not None, \"Model is not loaded\"\n",
    "    \n",
    "    x = pd.read_json(io.StringIO(data)).values\n",
    "    \n",
    "    logger_feat.info(\"Logging features before scaling\")\n",
    "    logger_feat.info(x)\n",
    "    logger_feat.info(\"...\")\n",
    "    \n",
    "    # apply scaling\n",
    "    x = preprocess_data(x)\n",
    "    \n",
    "    logger_feat.info(\"Logging features after scaling\")\n",
    "    logger_feat.info(x)\n",
    "    logger_feat.info(\"...\")\n",
    "    \n",
    "    logger_pred.info(\"Invoking model......\")\n",
    "    \n",
    "    preds = model.predict_proba(x)\n",
    "    \n",
    "    preds = np.round(preds[:, 1], 4)\n",
    "    preds = preds.tolist()\n",
    "    \n",
    "    logger_pred.info(\"Logging predictions\")\n",
    "    logger_pred.info(preds)\n",
    "    \n",
    "    return { 'prediction': preds }"
   ]
  },
  {
   "cell_type": "markdown",
   "id": "ba74dc4c",
   "metadata": {},
   "source": [
    "### tests before saving to model catalog"
   ]
  },
  {
   "cell_type": "code",
   "execution_count": 83,
   "id": "d9d600e2",
   "metadata": {},
   "outputs": [
    {
     "name": "stdout",
     "output_type": "stream",
     "text": [
      "The autoreload extension is already loaded. To reload it, use:\n",
      "  %reload_ext autoreload\n",
      "INFO:model-prediction:Loaded model and scaler...\n"
     ]
    }
   ],
   "source": [
    "%load_ext autoreload\n",
    "\n",
    "%autoreload 2\n",
    "\n",
    "# add the path of score.py: \n",
    "\n",
    "import sys \n",
    "sys.path.insert(0, PATH_ARTEFACT)\n",
    "\n",
    "from score import load_model, predict\n",
    "\n",
    "# Load the model to memory \n",
    "_ = load_model()"
   ]
  },
  {
   "cell_type": "code",
   "execution_count": 84,
   "id": "1822a72a",
   "metadata": {},
   "outputs": [],
   "source": [
    "# scaling will be done by the service...\n",
    "x_input = x_valid[0:2]"
   ]
  },
  {
   "cell_type": "code",
   "execution_count": 85,
   "id": "1104f6d8",
   "metadata": {},
   "outputs": [
    {
     "name": "stdout",
     "output_type": "stream",
     "text": [
      "INFO:model-prediction:In predict...\n",
      "INFO:features:Logging features before scaling\n",
      "INFO:features:[[1.364e+01 1.560e+01 8.738e+01 5.753e+02 9.423e-02 6.630e-02 4.705e-02\n",
      "  3.731e-02 1.717e-01 5.660e-02 3.242e-01 6.612e-01 1.996e+00 2.719e+01\n",
      "  6.470e-03 1.248e-02 1.810e-02 1.103e-02 1.898e-02 1.794e-03 1.485e+01\n",
      "  1.905e+01 9.411e+01 6.834e+02 1.278e-01 1.291e-01 1.533e-01 9.222e-02\n",
      "  2.530e-01 6.510e-02]\n",
      " [1.953e+01 3.247e+01 1.280e+02 1.223e+03 8.420e-02 1.130e-01 1.145e-01\n",
      "  6.637e-02 1.428e-01 5.313e-02 7.392e-01 1.321e+00 4.722e+00 1.099e+02\n",
      "  5.539e-03 2.644e-02 2.664e-02 1.078e-02 1.332e-02 2.256e-03 2.790e+01\n",
      "  4.541e+01 1.802e+02 2.477e+03 1.408e-01 4.097e-01 3.995e-01 1.625e-01\n",
      "  2.713e-01 7.568e-02]]\n",
      "INFO:features:...\n",
      "INFO:model-prediction:Scaling features...\n",
      "INFO:features:Logging features after scaling\n",
      "INFO:features:[[-0.1238277  -0.84942669 -0.17235378 -0.21278503 -0.14604114 -0.72370159\n",
      "  -0.51078994 -0.28109155 -0.3504825  -0.90178206 -0.28312334 -0.9992251\n",
      "  -0.41419185 -0.2776227  -0.2151519  -0.7256165  -0.48924479 -0.09667384\n",
      "  -0.19163544 -0.81095858 -0.27829345 -1.08173989 -0.3733134  -0.33347458\n",
      "  -0.20691438 -0.79432093 -0.54981252 -0.3179254  -0.60968873 -1.08326186]\n",
      " [ 1.52953     3.18347441  1.4826627   1.58688702 -0.8612412   0.20214178\n",
      "   0.36927223  0.47158224 -1.43561579 -1.42792267  1.16302856  0.20278437\n",
      "   0.91482378  1.43841004 -0.54638129  0.07430014 -0.1556582  -0.1401356\n",
      "  -0.91956497 -0.61721758  2.39829426  3.37778053  2.16965601  2.77942125\n",
      "   0.37033092  1.02862388  0.65100515  0.75357736 -0.29725538 -0.46067929]]\n",
      "INFO:features:...\n",
      "INFO:model-prediction:Invoking model......\n",
      "INFO:model-prediction:Logging predictions\n",
      "INFO:model-prediction:[0.9785, 0.0328]\n"
     ]
    }
   ],
   "source": [
    "predictions_test = predict(json.dumps(x_input.tolist()), _)"
   ]
  },
  {
   "cell_type": "code",
   "execution_count": 86,
   "id": "b501b79b",
   "metadata": {},
   "outputs": [
    {
     "name": "stdout",
     "output_type": "stream",
     "text": [
      "ERROR:ads:ADS Exception\n",
      "Traceback (most recent call last):\n",
      "  File \"/home/datascience/conda/mlcpuv1/lib/python3.6/site-packages/IPython/core/interactiveshell.py\", line 3343, in run_code\n",
      "    exec(code_obj, self.user_global_ns, self.user_ns)\n",
      "  File \"<ipython-input-86-ee2241adca52>\", line 3, in <module>\n",
      "    description='A model for Breast Cancer Dataset')\n",
      "  File \"/home/datascience/conda/mlcpuv1/lib/python3.6/site-packages/ads/common/model_artifact.py\", line 385, in save\n",
      "    training_code_info = self._training_code_info(ns, training_script_path, ignore_pending_changes)\n",
      "  File \"/home/datascience/conda/mlcpuv1/lib/python3.6/site-packages/ads/common/model_artifact.py\", line 434, in _training_code_info\n",
      "    self._assert_path_not_dirty(self.artifact_dir, repo, ignore_pending_changes)\n",
      "  File \"/home/datascience/conda/mlcpuv1/lib/python3.6/site-packages/ads/common/model_artifact.py\", line 448, in _assert_path_not_dirty\n",
      "    raise ChangesNotCommitted(path_abs)\n",
      "ads.common.model_artifact.ChangesNotCommitted: \n",
      "            File(s) at /home/datascience/model-catalogv2/model-files are either dirty or untracked. \n",
      "            Please commit changes and then save the model, or set `ignore_pending_changes=True`.\n",
      "        \n"
     ]
    },
    {
     "name": "stderr",
     "output_type": "stream",
     "text": [
      "ChangesNotCommitted: \n",
      "            File(s) at /home/datascience/model-catalogv2/model-files are either dirty or untracked. \n",
      "            Please commit changes and then save the model, or set `ignore_pending_changes=True`.\n",
      "        "
     ]
    }
   ],
   "source": [
    "# Saving the model artifact to the model catalog.\n",
    "catalog_entry = artifact.save(display_name='model-ws-bc', \n",
    "              description='A model for Breast Cancer Dataset')"
   ]
  },
  {
   "cell_type": "code",
   "execution_count": null,
   "id": "32223c9e",
   "metadata": {},
   "outputs": [],
   "source": []
  }
 ],
 "metadata": {
  "kernelspec": {
   "display_name": "Python [conda env:mlcpuv1]",
   "language": "python",
   "name": "conda-env-mlcpuv1-py"
  },
  "language_info": {
   "codemirror_mode": {
    "name": "ipython",
    "version": 3
   },
   "file_extension": ".py",
   "mimetype": "text/x-python",
   "name": "python",
   "nbconvert_exporter": "python",
   "pygments_lexer": "ipython3",
   "version": "3.6.11"
  }
 },
 "nbformat": 4,
 "nbformat_minor": 5
}
